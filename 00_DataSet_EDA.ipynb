{
 "cells": [
  {
   "cell_type": "code",
   "execution_count": 1,
   "id": "exempt-wales",
   "metadata": {},
   "outputs": [],
   "source": [
    "#!pip install tensorflow_datasets\n",
    "#!pip install tensorflow"
   ]
  },
  {
   "cell_type": "code",
   "execution_count": 2,
   "id": "empirical-worship",
   "metadata": {},
   "outputs": [],
   "source": [
    "import tensorflow as tf\n",
    "import tensorflow_datasets as tfds\n",
    "import pandas as pd\n",
    "pd.options.display.float_format = '{:.2f}'.format"
   ]
  },
  {
   "cell_type": "markdown",
   "id": "comparable-spiritual",
   "metadata": {},
   "source": [
    "# NEWSROOM"
   ]
  },
  {
   "cell_type": "code",
   "execution_count": 3,
   "id": "missing-valve",
   "metadata": {},
   "outputs": [
    {
     "data": {
      "text/html": [
       "<div>\n",
       "<style scoped>\n",
       "    .dataframe tbody tr th:only-of-type {\n",
       "        vertical-align: middle;\n",
       "    }\n",
       "\n",
       "    .dataframe tbody tr th {\n",
       "        vertical-align: top;\n",
       "    }\n",
       "\n",
       "    .dataframe thead th {\n",
       "        text-align: right;\n",
       "    }\n",
       "</style>\n",
       "<table border=\"1\" class=\"dataframe\">\n",
       "  <thead>\n",
       "    <tr style=\"text-align: right;\">\n",
       "      <th></th>\n",
       "      <th>compression</th>\n",
       "      <th>compression_bin</th>\n",
       "      <th>coverage</th>\n",
       "      <th>coverage_bin</th>\n",
       "      <th>date</th>\n",
       "      <th>density</th>\n",
       "      <th>density_bin</th>\n",
       "      <th>summary</th>\n",
       "      <th>text</th>\n",
       "      <th>title</th>\n",
       "      <th>url</th>\n",
       "    </tr>\n",
       "  </thead>\n",
       "  <tbody>\n",
       "    <tr>\n",
       "      <th>0</th>\n",
       "      <td>38.71</td>\n",
       "      <td>b'high'</td>\n",
       "      <td>0.87</td>\n",
       "      <td>b'medium'</td>\n",
       "      <td>b'2014111519'</td>\n",
       "      <td>6.61</td>\n",
       "      <td>b'mixed'</td>\n",
       "      <td>b'U.S. President Obama and U.N. Secretary-Gene...</td>\n",
       "      <td>b'Australian Prime Minister Tony Abbott may ha...</td>\n",
       "      <td>b\"Obama and Ban Ki-moon didn't get the memo th...</td>\n",
       "      <td>b'http://mashable.com/2014/11/15/obama-ban-ki-...</td>\n",
       "    </tr>\n",
       "  </tbody>\n",
       "</table>\n",
       "</div>"
      ],
      "text/plain": [
       "   compression compression_bin  coverage coverage_bin           date  density  \\\n",
       "0        38.71         b'high'      0.87    b'medium'  b'2014111519'     6.61   \n",
       "\n",
       "  density_bin                                            summary  \\\n",
       "0    b'mixed'  b'U.S. President Obama and U.N. Secretary-Gene...   \n",
       "\n",
       "                                                text  \\\n",
       "0  b'Australian Prime Minister Tony Abbott may ha...   \n",
       "\n",
       "                                               title  \\\n",
       "0  b\"Obama and Ban Ki-moon didn't get the memo th...   \n",
       "\n",
       "                                                 url  \n",
       "0  b'http://mashable.com/2014/11/15/obama-ban-ki-...  "
      ]
     },
     "execution_count": 3,
     "metadata": {},
     "output_type": "execute_result"
    }
   ],
   "source": [
    "src_type = 'newsroom'\n",
    "take = 1000\n",
    "ds,ds_info = tfds.load(src_type, split='test', with_info=True)\n",
    "df = tfds.as_dataframe(ds.take(take),ds_info)\n",
    "df.head(1)"
   ]
  },
  {
   "cell_type": "code",
   "execution_count": 4,
   "id": "professional-syntax",
   "metadata": {},
   "outputs": [],
   "source": [
    "df['summary_length'] = df['summary'].str.len()\n",
    "df['text_length'] = df['text'].str.len()"
   ]
  },
  {
   "cell_type": "code",
   "execution_count": 5,
   "id": "prerequisite-yahoo",
   "metadata": {},
   "outputs": [
    {
     "data": {
      "text/html": [
       "<div>\n",
       "<style scoped>\n",
       "    .dataframe tbody tr th:only-of-type {\n",
       "        vertical-align: middle;\n",
       "    }\n",
       "\n",
       "    .dataframe tbody tr th {\n",
       "        vertical-align: top;\n",
       "    }\n",
       "\n",
       "    .dataframe thead th {\n",
       "        text-align: right;\n",
       "    }\n",
       "</style>\n",
       "<table border=\"1\" class=\"dataframe\">\n",
       "  <thead>\n",
       "    <tr style=\"text-align: right;\">\n",
       "      <th></th>\n",
       "      <th>compression</th>\n",
       "      <th>coverage</th>\n",
       "      <th>density</th>\n",
       "      <th>summary_length</th>\n",
       "      <th>text_length</th>\n",
       "    </tr>\n",
       "  </thead>\n",
       "  <tbody>\n",
       "    <tr>\n",
       "      <th>count</th>\n",
       "      <td>1000.00</td>\n",
       "      <td>1000.00</td>\n",
       "      <td>1000.00</td>\n",
       "      <td>1000.00</td>\n",
       "      <td>1000.00</td>\n",
       "    </tr>\n",
       "    <tr>\n",
       "      <th>mean</th>\n",
       "      <td>36.60</td>\n",
       "      <td>0.83</td>\n",
       "      <td>9.24</td>\n",
       "      <td>162.57</td>\n",
       "      <td>4004.46</td>\n",
       "    </tr>\n",
       "    <tr>\n",
       "      <th>std</th>\n",
       "      <td>50.36</td>\n",
       "      <td>0.18</td>\n",
       "      <td>14.18</td>\n",
       "      <td>183.71</td>\n",
       "      <td>3540.08</td>\n",
       "    </tr>\n",
       "    <tr>\n",
       "      <th>min</th>\n",
       "      <td>1.16</td>\n",
       "      <td>0.00</td>\n",
       "      <td>0.00</td>\n",
       "      <td>3.00</td>\n",
       "      <td>283.00</td>\n",
       "    </tr>\n",
       "    <tr>\n",
       "      <th>25%</th>\n",
       "      <td>12.21</td>\n",
       "      <td>0.73</td>\n",
       "      <td>1.21</td>\n",
       "      <td>96.00</td>\n",
       "      <td>1719.25</td>\n",
       "    </tr>\n",
       "    <tr>\n",
       "      <th>50%</th>\n",
       "      <td>25.17</td>\n",
       "      <td>0.88</td>\n",
       "      <td>2.34</td>\n",
       "      <td>135.00</td>\n",
       "      <td>3316.50</td>\n",
       "    </tr>\n",
       "    <tr>\n",
       "      <th>75%</th>\n",
       "      <td>45.55</td>\n",
       "      <td>0.97</td>\n",
       "      <td>12.85</td>\n",
       "      <td>177.00</td>\n",
       "      <td>5195.00</td>\n",
       "    </tr>\n",
       "    <tr>\n",
       "      <th>max</th>\n",
       "      <td>1132.00</td>\n",
       "      <td>1.00</td>\n",
       "      <td>166.00</td>\n",
       "      <td>3608.00</td>\n",
       "      <td>38239.00</td>\n",
       "    </tr>\n",
       "  </tbody>\n",
       "</table>\n",
       "</div>"
      ],
      "text/plain": [
       "       compression  coverage  density  summary_length  text_length\n",
       "count      1000.00   1000.00  1000.00         1000.00      1000.00\n",
       "mean         36.60      0.83     9.24          162.57      4004.46\n",
       "std          50.36      0.18    14.18          183.71      3540.08\n",
       "min           1.16      0.00     0.00            3.00       283.00\n",
       "25%          12.21      0.73     1.21           96.00      1719.25\n",
       "50%          25.17      0.88     2.34          135.00      3316.50\n",
       "75%          45.55      0.97    12.85          177.00      5195.00\n",
       "max        1132.00      1.00   166.00         3608.00     38239.00"
      ]
     },
     "execution_count": 5,
     "metadata": {},
     "output_type": "execute_result"
    }
   ],
   "source": [
    "df.describe()"
   ]
  },
  {
   "cell_type": "markdown",
   "id": "offensive-termination",
   "metadata": {},
   "source": [
    "# cnn_dailymail"
   ]
  },
  {
   "cell_type": "code",
   "execution_count": 6,
   "id": "pregnant-converter",
   "metadata": {},
   "outputs": [
    {
     "data": {
      "text/html": [
       "<div>\n",
       "<style scoped>\n",
       "    .dataframe tbody tr th:only-of-type {\n",
       "        vertical-align: middle;\n",
       "    }\n",
       "\n",
       "    .dataframe tbody tr th {\n",
       "        vertical-align: top;\n",
       "    }\n",
       "\n",
       "    .dataframe thead th {\n",
       "        text-align: right;\n",
       "    }\n",
       "</style>\n",
       "<table border=\"1\" class=\"dataframe\">\n",
       "  <thead>\n",
       "    <tr style=\"text-align: right;\">\n",
       "      <th></th>\n",
       "      <th>article</th>\n",
       "      <th>highlights</th>\n",
       "    </tr>\n",
       "  </thead>\n",
       "  <tbody>\n",
       "    <tr>\n",
       "      <th>0</th>\n",
       "      <td>b\"Ever noticed how plane seats appear to be ge...</td>\n",
       "      <td>b'Experts question if  packed out planes are p...</td>\n",
       "    </tr>\n",
       "  </tbody>\n",
       "</table>\n",
       "</div>"
      ],
      "text/plain": [
       "                                             article  \\\n",
       "0  b\"Ever noticed how plane seats appear to be ge...   \n",
       "\n",
       "                                          highlights  \n",
       "0  b'Experts question if  packed out planes are p...  "
      ]
     },
     "execution_count": 6,
     "metadata": {},
     "output_type": "execute_result"
    }
   ],
   "source": [
    "src_type = 'cnn_dailymail'\n",
    "take = 1000\n",
    "ds,ds_info = tfds.load(src_type, split='test', with_info=True)\n",
    "df = tfds.as_dataframe(ds.take(take),ds_info)\n",
    "df.head(1)"
   ]
  },
  {
   "cell_type": "code",
   "execution_count": 7,
   "id": "colonial-laser",
   "metadata": {},
   "outputs": [],
   "source": [
    "df['summary_length'] = df['highlights'].str.len()\n",
    "df['text_length'] = df['article'].str.len()"
   ]
  },
  {
   "cell_type": "code",
   "execution_count": 8,
   "id": "developing-editing",
   "metadata": {},
   "outputs": [
    {
     "data": {
      "text/html": [
       "<div>\n",
       "<style scoped>\n",
       "    .dataframe tbody tr th:only-of-type {\n",
       "        vertical-align: middle;\n",
       "    }\n",
       "\n",
       "    .dataframe tbody tr th {\n",
       "        vertical-align: top;\n",
       "    }\n",
       "\n",
       "    .dataframe thead th {\n",
       "        text-align: right;\n",
       "    }\n",
       "</style>\n",
       "<table border=\"1\" class=\"dataframe\">\n",
       "  <thead>\n",
       "    <tr style=\"text-align: right;\">\n",
       "      <th></th>\n",
       "      <th>summary_length</th>\n",
       "      <th>text_length</th>\n",
       "    </tr>\n",
       "  </thead>\n",
       "  <tbody>\n",
       "    <tr>\n",
       "      <th>count</th>\n",
       "      <td>1000.00</td>\n",
       "      <td>1000.00</td>\n",
       "    </tr>\n",
       "    <tr>\n",
       "      <th>mean</th>\n",
       "      <td>315.65</td>\n",
       "      <td>3904.08</td>\n",
       "    </tr>\n",
       "    <tr>\n",
       "      <th>std</th>\n",
       "      <td>143.67</td>\n",
       "      <td>2000.72</td>\n",
       "    </tr>\n",
       "    <tr>\n",
       "      <th>min</th>\n",
       "      <td>64.00</td>\n",
       "      <td>633.00</td>\n",
       "    </tr>\n",
       "    <tr>\n",
       "      <th>25%</th>\n",
       "      <td>223.00</td>\n",
       "      <td>2375.00</td>\n",
       "    </tr>\n",
       "    <tr>\n",
       "      <th>50%</th>\n",
       "      <td>291.00</td>\n",
       "      <td>3451.00</td>\n",
       "    </tr>\n",
       "    <tr>\n",
       "      <th>75%</th>\n",
       "      <td>363.00</td>\n",
       "      <td>5080.00</td>\n",
       "    </tr>\n",
       "    <tr>\n",
       "      <th>max</th>\n",
       "      <td>2885.00</td>\n",
       "      <td>10749.00</td>\n",
       "    </tr>\n",
       "  </tbody>\n",
       "</table>\n",
       "</div>"
      ],
      "text/plain": [
       "       summary_length  text_length\n",
       "count         1000.00      1000.00\n",
       "mean           315.65      3904.08\n",
       "std            143.67      2000.72\n",
       "min             64.00       633.00\n",
       "25%            223.00      2375.00\n",
       "50%            291.00      3451.00\n",
       "75%            363.00      5080.00\n",
       "max           2885.00     10749.00"
      ]
     },
     "execution_count": 8,
     "metadata": {},
     "output_type": "execute_result"
    }
   ],
   "source": [
    "df.describe()"
   ]
  },
  {
   "cell_type": "markdown",
   "id": "detected-adult",
   "metadata": {},
   "source": [
    "# multi_news"
   ]
  },
  {
   "cell_type": "code",
   "execution_count": 9,
   "id": "signal-times",
   "metadata": {},
   "outputs": [
    {
     "data": {
      "text/html": [
       "<div>\n",
       "<style scoped>\n",
       "    .dataframe tbody tr th:only-of-type {\n",
       "        vertical-align: middle;\n",
       "    }\n",
       "\n",
       "    .dataframe tbody tr th {\n",
       "        vertical-align: top;\n",
       "    }\n",
       "\n",
       "    .dataframe thead th {\n",
       "        text-align: right;\n",
       "    }\n",
       "</style>\n",
       "<table border=\"1\" class=\"dataframe\">\n",
       "  <thead>\n",
       "    <tr style=\"text-align: right;\">\n",
       "      <th></th>\n",
       "      <th>document</th>\n",
       "      <th>summary</th>\n",
       "    </tr>\n",
       "  </thead>\n",
       "  <tbody>\n",
       "    <tr>\n",
       "      <th>0</th>\n",
       "      <td>b'Think back, everyone -- can you remember whe...</td>\n",
       "      <td>b'\\xe2\\x80\\x93 No matter how much you like Jas...</td>\n",
       "    </tr>\n",
       "  </tbody>\n",
       "</table>\n",
       "</div>"
      ],
      "text/plain": [
       "                                            document  \\\n",
       "0  b'Think back, everyone -- can you remember whe...   \n",
       "\n",
       "                                             summary  \n",
       "0  b'\\xe2\\x80\\x93 No matter how much you like Jas...  "
      ]
     },
     "execution_count": 9,
     "metadata": {},
     "output_type": "execute_result"
    }
   ],
   "source": [
    "src_type = 'multi_news'\n",
    "take = 1000\n",
    "ds,ds_info = tfds.load(src_type, split='test', with_info=True)\n",
    "df = tfds.as_dataframe(ds.take(take),ds_info)\n",
    "df.head(1)"
   ]
  },
  {
   "cell_type": "code",
   "execution_count": 10,
   "id": "civil-metadata",
   "metadata": {},
   "outputs": [],
   "source": [
    "df['summary_length'] = df['summary'].str.len()\n",
    "df['text_length'] = df['document'].str.len()"
   ]
  },
  {
   "cell_type": "code",
   "execution_count": 11,
   "id": "worth-garbage",
   "metadata": {},
   "outputs": [
    {
     "data": {
      "text/html": [
       "<div>\n",
       "<style scoped>\n",
       "    .dataframe tbody tr th:only-of-type {\n",
       "        vertical-align: middle;\n",
       "    }\n",
       "\n",
       "    .dataframe tbody tr th {\n",
       "        vertical-align: top;\n",
       "    }\n",
       "\n",
       "    .dataframe thead th {\n",
       "        text-align: right;\n",
       "    }\n",
       "</style>\n",
       "<table border=\"1\" class=\"dataframe\">\n",
       "  <thead>\n",
       "    <tr style=\"text-align: right;\">\n",
       "      <th></th>\n",
       "      <th>summary_length</th>\n",
       "      <th>text_length</th>\n",
       "    </tr>\n",
       "  </thead>\n",
       "  <tbody>\n",
       "    <tr>\n",
       "      <th>count</th>\n",
       "      <td>1000.00</td>\n",
       "      <td>1000.00</td>\n",
       "    </tr>\n",
       "    <tr>\n",
       "      <th>mean</th>\n",
       "      <td>1288.94</td>\n",
       "      <td>10168.99</td>\n",
       "    </tr>\n",
       "    <tr>\n",
       "      <th>std</th>\n",
       "      <td>387.81</td>\n",
       "      <td>8997.59</td>\n",
       "    </tr>\n",
       "    <tr>\n",
       "      <th>min</th>\n",
       "      <td>382.00</td>\n",
       "      <td>347.00</td>\n",
       "    </tr>\n",
       "    <tr>\n",
       "      <th>25%</th>\n",
       "      <td>994.00</td>\n",
       "      <td>4868.75</td>\n",
       "    </tr>\n",
       "    <tr>\n",
       "      <th>50%</th>\n",
       "      <td>1323.50</td>\n",
       "      <td>8096.50</td>\n",
       "    </tr>\n",
       "    <tr>\n",
       "      <th>75%</th>\n",
       "      <td>1563.25</td>\n",
       "      <td>12431.25</td>\n",
       "    </tr>\n",
       "    <tr>\n",
       "      <th>max</th>\n",
       "      <td>3455.00</td>\n",
       "      <td>107135.00</td>\n",
       "    </tr>\n",
       "  </tbody>\n",
       "</table>\n",
       "</div>"
      ],
      "text/plain": [
       "       summary_length  text_length\n",
       "count         1000.00      1000.00\n",
       "mean          1288.94     10168.99\n",
       "std            387.81      8997.59\n",
       "min            382.00       347.00\n",
       "25%            994.00      4868.75\n",
       "50%           1323.50      8096.50\n",
       "75%           1563.25     12431.25\n",
       "max           3455.00    107135.00"
      ]
     },
     "execution_count": 11,
     "metadata": {},
     "output_type": "execute_result"
    }
   ],
   "source": [
    "df.describe()"
   ]
  }
 ],
 "metadata": {
  "environment": {
   "name": "tf2-gpu.2-4.m65",
   "type": "gcloud",
   "uri": "gcr.io/deeplearning-platform-release/tf2-gpu.2-4:m65"
  },
  "kernelspec": {
   "display_name": "Python 3",
   "language": "python",
   "name": "python3"
  },
  "language_info": {
   "codemirror_mode": {
    "name": "ipython",
    "version": 3
   },
   "file_extension": ".py",
   "mimetype": "text/x-python",
   "name": "python",
   "nbconvert_exporter": "python",
   "pygments_lexer": "ipython3",
   "version": "3.7.10"
  }
 },
 "nbformat": 4,
 "nbformat_minor": 5
}
