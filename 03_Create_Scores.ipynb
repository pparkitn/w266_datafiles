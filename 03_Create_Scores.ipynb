{
 "cells": [
  {
   "cell_type": "code",
   "execution_count": null,
   "id": "arbitrary-ballet",
   "metadata": {},
   "outputs": [],
   "source": [
    "#!pip install rouge-metric"
   ]
  },
  {
   "cell_type": "code",
   "execution_count": null,
   "id": "rubber-genius",
   "metadata": {},
   "outputs": [],
   "source": [
    "from rouge import Rouge \n",
    "from general_functions import *\n",
    "import numpy as np\n",
    "import glob, os\n",
    "import pylatexenc\n",
    "from pylatexenc.latexencode import unicode_to_latex"
   ]
  },
  {
   "cell_type": "code",
   "execution_count": null,
   "id": "tough-bargain",
   "metadata": {},
   "outputs": [],
   "source": [
    "def score_highlights(hypothesis,reference):\n",
    "        \n",
    "    rouge = Rouge()\n",
    "    scores = rouge.get_scores(hypothesis, reference)\n",
    "    \n",
    "    return scores"
   ]
  },
  {
   "cell_type": "code",
   "execution_count": null,
   "id": "whole-faculty",
   "metadata": {},
   "outputs": [],
   "source": [
    "def create_detail(file_name,article_filter):\n",
    "    with open(file_name, 'rb') as handle:\n",
    "        DATA_LIST = pickle.load(handle)\n",
    "\n",
    "    final_list_all = []\n",
    "\n",
    "    for entry in DATA_LIST:\n",
    "        highlights = entry[1]\n",
    "        highlights_orig = entry[2][0]\n",
    "        highlights_orig_dup = entry[3][0]\n",
    "                \n",
    "        if len(entry[0][6]) > article_filter :        \n",
    "            try:\n",
    "                final_list_all.append([entry,score_highlights(highlights_orig,highlights), score_highlights(highlights_orig_dup,highlights)])\n",
    "            except:\n",
    "                print(\"error\")\n",
    "    \n",
    "    return final_list_all"
   ]
  },
  {
   "cell_type": "code",
   "execution_count": null,
   "id": "other-gibraltar",
   "metadata": {},
   "outputs": [],
   "source": [
    "def create_summary(final_list_all):\n",
    "    \n",
    "    rouge_1 = []\n",
    "    rouge_2 = []\n",
    "    rouge_l = []\n",
    "\n",
    "    rouge_1_dup = []\n",
    "    rouge_2_dup = []\n",
    "    rouge_l_dup = []\n",
    "\n",
    "    for i in range(0,len(final_list_all)):\n",
    "\n",
    "        rouge_1.append([((final_list_all[i][1][0]).get('rouge-1')).get('f'),((final_list_all[i][1][0]).get('rouge-1')).get('p'),((final_list_all[i][1][0]).get('rouge-1')).get('r') ])\n",
    "        rouge_2.append([((final_list_all[i][1][0]).get('rouge-2')).get('f'),((final_list_all[i][1][0]).get('rouge-2')).get('p'),((final_list_all[i][1][0]).get('rouge-2')).get('r') ])\n",
    "        rouge_l.append([((final_list_all[i][1][0]).get('rouge-l')).get('f'),((final_list_all[i][1][0]).get('rouge-l')).get('p'),((final_list_all[i][1][0]).get('rouge-l')).get('r') ])\n",
    "\n",
    "        rouge_1_dup.append([((final_list_all[i][2][0]).get('rouge-1')).get('f'),((final_list_all[i][2][0]).get('rouge-1')).get('p'),((final_list_all[i][2][0]).get('rouge-1')).get('r') ])\n",
    "        rouge_2_dup.append([((final_list_all[i][2][0]).get('rouge-2')).get('f'),((final_list_all[i][2][0]).get('rouge-2')).get('p'),((final_list_all[i][2][0]).get('rouge-2')).get('r') ])\n",
    "        rouge_l_dup.append([((final_list_all[i][2][0]).get('rouge-l')).get('f'),((final_list_all[i][2][0]).get('rouge-l')).get('p'),((final_list_all[i][2][0]).get('rouge-l')).get('r') ])\n",
    "        \n",
    "    return np.mean(rouge_1,axis=0), np.mean(rouge_2,axis=0), np.mean(rouge_l,axis=0), np.mean(rouge_1_dup,axis=0),np.mean(rouge_2_dup,axis=0),np.mean(rouge_l_dup,axis=0)"
   ]
  },
  {
   "cell_type": "code",
   "execution_count": null,
   "id": "timely-emergency",
   "metadata": {},
   "outputs": [],
   "source": [
    "def split_rouge(rouge):\n",
    "    \n",
    "    f1 = rouge[0]\n",
    "    precision = rouge[1]\n",
    "    recall= rouge[2]\n",
    "    \n",
    "    return f1,precision,recall"
   ]
  },
  {
   "cell_type": "code",
   "execution_count": null,
   "id": "quiet-newfoundland",
   "metadata": {},
   "outputs": [],
   "source": [
    "def split_file_name(filename):\n",
    "    \n",
    "    filename = filename.replace(\"multi_news\",\"multinews\")\n",
    "    filename = filename.replace(\"cnn_dailymail\",\"cnndailymail\")\n",
    "    \n",
    "    filename_split = filename.split(\"_\")\n",
    "    \n",
    "    return filename_split"
   ]
  },
  {
   "cell_type": "code",
   "execution_count": null,
   "id": "burning-rocket",
   "metadata": {},
   "outputs": [],
   "source": [
    "def write_results(rouge_1, rouge_2, rouge_l, rouge_1_dup, rouge_2_dup, rouge_l_dup,file_name,article_filter,full_list,file):    \n",
    "    \n",
    "    file_object = open('Rouge_Result.txt', 'a')\n",
    "    file_object.write('=====================================================\\n')\n",
    "    file_object.write(file_name + '\\n')\n",
    "    file_object.write(str(article_filter) + '\\n')\n",
    "\n",
    "    file_object.write(\"r1\" + str(rouge_1) + '\\n')\n",
    "    file_object.write(\"r1_d\" + str(rouge_1_dup) + '\\n')\n",
    "\n",
    "    file_object.write(\"r2\" + str(rouge_2) + '\\n')\n",
    "    file_object.write(\"r2_d\" + str(rouge_2_dup) + '\\n')\n",
    "\n",
    "    file_object.write(\"rl\" + str(rouge_l) + '\\n')\n",
    "    file_object.write(\"rl_d\" + str(rouge_l_dup) + '\\n')\n",
    "\n",
    "    file_object.write('=====================================================\\n')        \n",
    "    file_object.close()\n",
    "        \n",
    "    r1,r2,r3 = split_rouge(rouge_1)\n",
    "    r4,r5,r6 = split_rouge(rouge_2)\n",
    "    r7,r8,r9 = split_rouge(rouge_l)\n",
    "    \n",
    "    r10,r11,r12 = split_rouge(rouge_1_dup)\n",
    "    r13,r14,r15 = split_rouge(rouge_2_dup)\n",
    "    r16,r17,r18 = split_rouge(rouge_l_dup)\n",
    "    \n",
    "    all_vars = split_file_name(file)    \n",
    "    \n",
    "    full_list.append([file_name,\n",
    "                      article_filter,\n",
    "                      all_vars[0],all_vars[2],all_vars[4],all_vars[6],all_vars[8],all_vars[10],all_vars[12],all_vars[14],\n",
    "                      r1,r2,r3,r4,r5,r6,r7,r8,r9,r10,r11,r12,r13,r14,r15,r16,r17,r18])"
   ]
  },
  {
   "cell_type": "code",
   "execution_count": null,
   "id": "heard-renaissance",
   "metadata": {},
   "outputs": [],
   "source": [
    "article_filter_list = [1,100,200,300,400,500,600,700,800,1000,1200,1500,2000,3000,4000]  #bigger then this\n",
    "article_filter_list = [1]  #bigger then this\n",
    "full_list = []\n",
    "\n",
    "for root, dirs, files in os.walk(os.getcwd()):\n",
    "    for file in files:\n",
    "        if file.find(\"pickle\") != -1:\n",
    "            if file.find(\"beams\") != -1:\n",
    "                    f_name = str(os.path.join(root, file))\n",
    "                    print(file)                    \n",
    "                    for article_filter in article_filter_list:\n",
    "                        print(article_filter)\n",
    "                        detaiL_array = create_detail(f_name,article_filter)\n",
    "                        rouge_1, rouge_2, rouge_l, rouge_1_dup, rouge_2_dup, rouge_l_dup = create_summary(detaiL_array)\n",
    "                        write_results(rouge_1, rouge_2, rouge_l, rouge_1_dup, rouge_2_dup, rouge_l_dup,f_name,article_filter,full_list,file)"
   ]
  },
  {
   "cell_type": "code",
   "execution_count": null,
   "id": "broke-brighton",
   "metadata": {},
   "outputs": [],
   "source": [
    "df = pd.DataFrame(data = full_list, columns = ['FileName','Article_Filter'\n",
    "                                               ,'SRC','TopPos','TopNeg','DupCnt','Take','Length','Model','Beams'\n",
    "                                               ,'R1-F1','R1-Precision','R1-Recall'\n",
    "                                                ,'R2-F1','R2-Precision','R2-Recall'\n",
    "                                                ,'RL-F1','RL-Precision','RL-Recall'                                               \n",
    "                                                ,'R1-D-F1','R1-D-Precision','R1-D-Recall'\n",
    "                                                ,'R2-D-F1','R2-D-Precision','R2-D-Recall'\n",
    "                                                ,'RL-D-F1','RL-D-Precision','RL-D-Recall'])\n",
    "df.to_csv('scores.csv')"
   ]
  },
  {
   "cell_type": "markdown",
   "id": "original-eclipse",
   "metadata": {},
   "source": [
    "# LOOKUP"
   ]
  },
  {
   "cell_type": "code",
   "execution_count": null,
   "id": "premier-masters",
   "metadata": {},
   "outputs": [],
   "source": [
    "entry = 217\n",
    "print(entry)\n",
    "print(f_name)\n",
    "\n",
    "print(\"=======================================================================\")\n",
    "print(\"Original Score\")\n",
    "print(detaiL_array[entry][1])\n",
    "\n",
    "\n",
    "print(\"=======================================================================\")\n",
    "print(\"Counterfeit Score\")\n",
    "print(detaiL_array[entry][2])\n",
    "\n",
    "print(\"=======================================================================\")\n",
    "print(\"Provided Summary\")\n",
    "print(detaiL_array[entry][0][1])\n",
    "print(\"LATEX=======================================================================\")\n",
    "#print(unicode_to_latex(detaiL_array[entry][0][1]))\n",
    "\n",
    "print(\"=======================================================================\")\n",
    "print(\"Model Summary\")\n",
    "print(detaiL_array[entry][0][2])\n",
    "\n",
    "print(\"=======================================================================\")\n",
    "print(\"Counterfeit Summary\")\n",
    "print(detaiL_array[entry][0][3])\n",
    "\n",
    "print(\"=======================================================================\")\n",
    "print(\"Duplicated Article\")\n",
    "print(detaiL_array[entry][0][0][2])\n",
    "\n",
    "print(\"=======================================================================\")\n",
    "print(\"Original Article\")\n",
    "print(detaiL_array[entry][0][0][6])"
   ]
  }
 ],
 "metadata": {
  "environment": {
   "name": "tf2-gpu.2-4.m65",
   "type": "gcloud",
   "uri": "gcr.io/deeplearning-platform-release/tf2-gpu.2-4:m65"
  },
  "kernelspec": {
   "display_name": "Python 3",
   "language": "python",
   "name": "python3"
  },
  "language_info": {
   "codemirror_mode": {
    "name": "ipython",
    "version": 3
   },
   "file_extension": ".py",
   "mimetype": "text/x-python",
   "name": "python",
   "nbconvert_exporter": "python",
   "pygments_lexer": "ipython3",
   "version": "3.7.10"
  }
 },
 "nbformat": 4,
 "nbformat_minor": 5
}
